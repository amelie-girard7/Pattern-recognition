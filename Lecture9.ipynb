{
 "cells": [
  {
   "cell_type": "markdown",
   "metadata": {},
   "source": [
    "# Lecture 9 \n",
    "\n",
    "## Last time\n",
    "\n",
    "- Logistic loss.  Hinge loss.\n",
    "- SVM. Hard-SVM and Soft-SVM\n",
    "- SGD for SVM\n",
    "\n",
    "## Today\n",
    "\n",
    "- SGD for SVM continued\n",
    "- Dual form of SVM and Kernels\n",
    "\n",
    "ref: Andrew Ng's CS229 notes\n",
    "\n",
    "### SGD for SVM\n",
    "...\n",
    "\n",
    "For convex $f$, $v$ is a subgradient at $\\theta$ if:\n",
    "\n",
    "$$ \\forall f(w) \\ge f(\\theta) + v^T(w-\\theta) $$\n",
    "\n",
    "Subdifferential $\\partial f(\\theta)$ is the *set* of subgradients\n",
    "\n",
    "**Claim:**  Let $g(\\theta)$ = \\underset{i}{max}g_i(\\theta) for convex differentiable functions $g_1, ..., g_n$\n",
    "\n",
    "Given \\theta let $j \\in \\underset{i}{\\text{argmax}} g_i(\\theta)$.  Then $\\nabla g_j(\\theta) \\in \\partial g(\\theta)$\n",
    "\n",
    "\n",
    "Apply to hinge loss.\n",
    "\n",
    "$$ l_{hinge}(z) = max\\{0, 1-z\\} $$\n",
    "\n",
    "$$ f(\\theta) = max\\{0, 1 - y\\theta^Tx\\}$$\n",
    "\n",
    "Find a $v \\in \\partial g(\\theta): v = \\lambda \\theta + \\frac{1}{n} \\sum_{i=1}^n(-y^{(i)}x^{(i)}) \\mathbb{1}\\{1-y^{(i)} \\theta^T x^{(i)} > 0 \\}$\n",
    "\n",
    "\n",
    "### Dual form of SVM:\n",
    "\n",
    "Hard-SVM\n",
    "\n",
    "$$\\underset{\\theta}{\\text{min}} ||\\theta||^2 s.t. \\forall i y^{(i)} \\theta^Tx^{(i)} \\ge 1$$\n",
    "\n",
    "$$g(\\theta) = \\underset{\\alpha \\in \\mathbb{R}^n, \\alpha_i \\ge 0}{\\text{max}} \\sum_{i=1}^n \\alpha_i (1 - y^{(i)} \\theta^Tx^{(i)}) = \\{ \\infty if y^{(i)}\\theta^Tx^{(i)} < 1 for some i, 0 if y^{(i)}\\theta^Tx^{(i)} \\ge 1 \\forall i\\}$$\n",
    "\n",
    "Equivalently can write Hard-SVM as: $\\underset{\\theta}{\\text{min}} (\\frac{1}{2} ||\\theta||^2 + g(\\theta))$"
   ]
  },
  {
   "cell_type": "markdown",
   "metadata": {},
   "source": [
    "**Claim**:\n",
    "\n",
    "$$\\underset{a}{\\text{min}} ( \\underset{b}{\\text{max}} f(a,b))$$\n",
    "\n",
    "$$ \\ge \\underset{b}{\\text{max}} ( \\underset{a}{\\text{min}} f(a,b))$$\n",
    "\n",
    "Let $b^* = \\underset{b}{\\text{argmax}} \\underset{a}{\\text{min}} f(a,b)$\n",
    "\n",
    "Due to strong duality:\n",
    "\n",
    "$$ = \\underset{\\alpha \\in \\mathbb{R}^n, \\alpha_i \\ge 0}{\\text{max}} \\underset{\\theta}{\\text{min}} \\big[ \\frac{1}{2} ||\\theta||^@ + \\sum_{i=1}^n \\alpha_i(1 - y^{(i)} \\theta^T x^{(i)}) \\big]$$\n",
    "\n",
    "This is just quadratic in $\\theta$.  We can differntiate and solve."
   ]
  },
  {
   "cell_type": "code",
   "execution_count": null,
   "metadata": {
    "collapsed": true
   },
   "outputs": [],
   "source": []
  }
 ],
 "metadata": {
  "kernelspec": {
   "display_name": "Python 2",
   "language": "python",
   "name": "python2"
  },
  "language_info": {
   "codemirror_mode": {
    "name": "ipython",
    "version": 2
   },
   "file_extension": ".py",
   "mimetype": "text/x-python",
   "name": "python",
   "nbconvert_exporter": "python",
   "pygments_lexer": "ipython2",
   "version": "2.7.10"
  }
 },
 "nbformat": 4,
 "nbformat_minor": 0
}
