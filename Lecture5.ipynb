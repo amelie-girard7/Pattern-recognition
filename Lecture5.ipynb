{
 "cells": [
  {
   "cell_type": "markdown",
   "metadata": {},
   "source": [
    "# Lecture 5\n",
    "\n",
    "## September 24, 2015\n",
    "\n",
    "### Last time\n",
    "\n",
    "$ Y \\overset{indep}{\\sim} N( \\theta^T \\phi(X), \\sigma^2)$\n",
    "\n",
    "### Today (Murphy 7.5, 13), (Bishop 3.2)\n",
    "\n",
    "- First: how do you get a point estimate?  What if you have to guess, what is $\\theta$?\n",
    "- Regularization\n",
    "- Bias-variance tradeoff\n",
    "- Model selection (how to choose $\\lambda$)\n"
   ]
  },
  {
   "cell_type": "code",
   "execution_count": 7,
   "metadata": {
    "collapsed": false
   },
   "outputs": [
    {
     "data": {
      "image/png": "[encoded data removed]",
      "text/plain": [
       "<matplotlib.figure.Figure at 0x111e28750>"
      ]
     },
     "metadata": {},
     "output_type": "display_data"
    },
    {
     "name": "stdout",
     "output_type": "stream",
     "text": [
      "[  1.           1.47368421   1.94736842   2.42105263   2.89473684\n",
      "   3.36842105   3.84210526   4.31578947   4.78947368   5.26315789\n",
      "   5.73684211   6.21052632   6.68421053   7.15789474   7.63157895\n",
      "   8.10526316   8.57894737   9.05263158   9.52631579  10.        ]\n",
      "[-0.78426937  0.24280769 -1.51747003  0.18335922  0.78339159  1.03679744\n",
      " -0.68180652  1.02389945  1.15327011 -0.16536511 -0.39942455 -2.03008955\n",
      "  1.3620683  -0.3870142  -0.23108135 -0.67255566  0.36414932  0.47329389\n",
      "  0.957015    1.99040348]\n"
     ]
    }
   ],
   "source": [
    "import numpy as np\n",
    "import matplotlib.pyplot as plt\n",
    "%matplotlib inline\n",
    "\n",
    "N = 20\n",
    "x = np.linspace(1,10,20)\n",
    "y = np.random.randn(1,20)[0]\n",
    "\n",
    "plt.plot(x,y, '.'); plt.show()\n",
    "\n",
    "print x\n",
    "print y"
   ]
  },
  {
   "cell_type": "markdown",
   "metadata": {},
   "source": [
    "Basis functions will be the powers of $x$: $\\phi(x) = \\{ 1, x, x^2, ..., x^d-1\\}$ \n",
    "\n",
    "$\\hat{\\theta}_{\\text{OLS}} = \\underset{\\theta}{\\text{argmin}} \\text{ RSS}(\\theta)$\n",
    "\n",
    "Gaussian prior\n",
    "\n",
    "$p(\\theta) = N(\\theta \\ | \\ 0, \\sigma_0^2 I_{d\\times d})$"
   ]
  },
  {
   "cell_type": "markdown",
   "metadata": {},
   "source": [
    "$\\hat{\\theta}_{\\text{MAP}} = \\underset{\\theta}{\\text{argmax}}$ $\\log p(y^{(lim)} \\ | \\ \\theta) + \\log p(\\theta)$\n",
    "\n",
    "Then plug in the form of the density...\n",
    "\n",
    "$=\\underset{\\theta}{\\text{argmin}} \\big[\\text{RSS}(\\theta) + \\lambda||\\theta||_2^2 \\big]$\n",
    "\n",
    "where $\\lambda := \\frac{\\sigma^2}{\\sigma_0^2}$ and $||\\theta||_2^2 = \\theta^T \\theta$\n",
    "\n",
    "$\\textbf{Solve for $\\theta$}$\n",
    "\n",
    "$\\nabla_{\\theta}  \\ f(\\theta) = 0$\n",
    "\n",
    "$\\hat{\\theta} = (\\lambda I_{d \\times d} + \\Phi^T \\Phi)^{-1} \\Phi^T Y$\n",
    "\n",
    "\"Ridge regresion\"\n",
    "\n",
    "Exercise: For $\\lambda > 0, \\lambda I_{d \\times d} + \\Phi^T \\Phi$ is invertible."
   ]
  },
  {
   "cell_type": "markdown",
   "metadata": {},
   "source": [
    "**Bias-variance tradeoff**\n",
    "\n",
    "$Y = \\theta^T \\phi(X) + \\epsilon$\n",
    "\n",
    "$\\mathbb{E}_{XY}[(\\mathbb{E}[Y|X]-Y)^2] = \\sigma^2$\n",
    "\n",
    "Risk: $\\mathbb{E}[(h(X) - \\mathbb{E}[Y|X])^2] = \\mathbb{E}_X[(h(X,D)=\\mathbb{E}[Y|X])^2]$\n",
    "\n",
    "$\\mathbb{E}_D[Risk] = (check this!) = \\mathbb{E}_X \\{ (\\mathbb{E}_D[h(X,D)] - \\mathbb{E}[Y|X])^2\\} + \\mathbb{E}_X\\mathbb{E}_D[(h(X,D) - \\mathbb{E}_D[h(X,D)])^2]$\n",
    "\n",
    "$ =$ bias-term + variance-term\n",
    "\n",
    "$\\mathbb{E}_D[RISK] = (bias)^2 + variance + noise$\n",
    "\n",
    "**Exercise**: What is the bias of $\\hat{\\theta}_{\\text{OLS}}$?\n",
    "\n",
    "Answer: it's 0"
   ]
  },
  {
   "cell_type": "markdown",
   "metadata": {},
   "source": [
    "____\n",
    "\n",
    "How to choose $\\lambda$?\n",
    "\n",
    "$h(x) = \\hat{\\theta}^T \\phi(X)$\n",
    "\n",
    "Risk = $\\mathbb{E}_{XY}[((\\theta_{D_1}^{(\\lambda)})^T \\phi(X) - Y)^2]$\n",
    "\n",
    "$$\\lambda^* = \\underset{\\lambda}{\\text{argmin}} \\frac{1}{|D_2|} \\sum_{i \\in D_@} [(\\hat{\\theta}_{D_1}^{(\\lambda)})^T \\phi(x^{(i)}) - y^{(i)}]^2$$"
   ]
  },
  {
   "cell_type": "markdown",
   "metadata": {},
   "source": [
    "There are other regularizers that are useful\n",
    "\n",
    "$$\\hat{\\theta}_{LASSO} = \\underset{\\theta}{\\text{argmin}} \\text{ RSS}(\\theta) + \\lambda||\\theta||_1$$"
   ]
  },
  {
   "cell_type": "code",
   "execution_count": null,
   "metadata": {
    "collapsed": true
   },
   "outputs": [],
   "source": []
  }
 ],
 "metadata": {
  "kernelspec": {
   "display_name": "Python 2",
   "language": "python",
   "name": "python2"
  },
  "language_info": {
   "codemirror_mode": {
    "name": "ipython",
    "version": 2
   },
   "file_extension": ".py",
   "mimetype": "text/x-python",
   "name": "python",
   "nbconvert_exporter": "python",
   "pygments_lexer": "ipython2",
   "version": "2.7.10"
  }
 },
 "nbformat": 4,
 "nbformat_minor": 0
}
