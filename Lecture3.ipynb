{
 "cells": [
  {
   "cell_type": "markdown",
   "metadata": {},
   "source": [
    "# Lecture 3\n",
    "\n",
    "## Last time\n",
    "\n",
    "Observe data $y^{(1)},...,y^{(n)}$\n",
    "\n",
    "Risk $= \\mathbb{E}_YL(h,Y) = \\int L(h,y)p(y)dy$\n",
    "\n",
    "$\\rightarrow$ Estimate p(y).  Assumed parametric form p(y \\ | \\theta)\n",
    "\n",
    "Prior beliefs $p_{\\Theta}(\\theta) \\rightarrow $ Posterior belief after experiment$  p_{\\Theta \\ | \\ Y^{lin}}(\\theta \\ | \\ y^{lin})$\n",
    "\n",
    "\n",
    "## Today: Regression (Bishop 3.1)\n",
    "\n",
    "Observe data $(x^{(1)},y^{(1)}), ..., (x^{(n)},y^{(n)})$\n",
    "\n",
    "$x^{(i)} \\in \\mathbb{R}^n$ examples\n",
    "\n",
    "$y^{(i)} \\in \\mathbb{R}$ labels\n",
    "\n",
    "Task: come up with prediction $\\hat{y} = h(x) \\in \\mathbb{R}$\n",
    "\n",
    "Risk: $\\mathbb{E}_{xy}L(h(x),Y)$\n",
    "\n",
    "$L(h,y) = (h-y)^2$\n",
    "\n",
    "\n",
    "(Since we have labels, this is an example of supervised learning)\n"
   ]
  },
  {
   "cell_type": "code",
   "execution_count": 11,
   "metadata": {
    "collapsed": false
   },
   "outputs": [
    {
     "data": {
      "image/png": "[encoded data removed]",
      "text/plain": [
       "<matplotlib.figure.Figure at 0x1119184d0>"
      ]
     },
     "metadata": {},
     "output_type": "display_data"
    }
   ],
   "source": [
    "import numpy as np\n",
    "import matplotlib.pyplot as plt\n",
    "%matplotlib inline\n",
    "\n",
    "x = np.linspace(-10,10,201)\n",
    "y = x**2\n",
    "plt.plot(x,y); plt.show()"
   ]
  },
  {
   "cell_type": "markdown",
   "metadata": {},
   "source": [
    "If we know $p(y \\ | \\ x): h(x) = \\mathbb{E}[Y \\ | \\ X = x]$  (page 46=47 of Bishop)\n",
    "\n",
    "\n",
    "Often useful to assume a parametric form for the relationship between x and y.\n",
    "\n",
    "$$y = f(x) = \\theta_0 + \\theta_1x_1 + ... + \\theta_dx_d = \\theta^Tx$$\n",
    "\n",
    "$$x = \\begin{bmatrix} 1 \\\\ x_1 \\\\ x_2 \\\\ \\vdots \\\\ x_d \\end{bmatrix}$$\n",
    "\n",
    "Question is: can we find a line that describes the data as best as possible?\n"
   ]
  },
  {
   "cell_type": "code",
   "execution_count": 32,
   "metadata": {
    "collapsed": false
   },
   "outputs": [
    {
     "data": {
      "image/png": "[encoded data removed]",
      "text/plain": [
       "<matplotlib.figure.Figure at 0x102c566d0>"
      ]
     },
     "metadata": {},
     "output_type": "display_data"
    }
   ],
   "source": [
    "x = np.linspace(-0,2,201)\n",
    "y = 3*x + np.random.randn(1,201)[0]*1\n",
    "plt.plot(x,y, 'x'); plt.show()"
   ]
  },
  {
   "cell_type": "markdown",
   "metadata": {},
   "source": [
    "Empirical\n",
    "\n",
    "Empirical Risk (MSE)\n",
    "\n",
    "n * MSE = RSS = SSE\n",
    "\n",
    "\n",
    "$$\\Phi = \\begin{bmatrix} 1 -- (X^{(1)})^T -- \\\\  \\\\ \\\\ \\\\ 1 -- (X^{(n)})^T -- \\end{bmatrix}$$\n",
    "\n",
    "$RSS(\\theta) = (\\Phi \\theta - \\bar{y})^T (\\Phi \\theta - \\bar{y})$\n",
    "\n",
    "Find $\\underset{\\theta}{argmin} RSS(\\theta).$\n",
    "\n",
    "$$ \\frac{\\partial RSS}{\\partial \\theta_i} = 0$$\n",
    "\n",
    "$$ \\nabla f(\\theta) = [ \\frac{\\partial f}{\\partial \\theta_0}, \\frac{\\partial f}{\\partial \\theta_1}, ..., \\frac{\\partial f}{\\partial \\theta_n} ]$$\n",
    "\n",
    "$$ \\nabla RSS(\\theta) = 0$$\n",
    "\n",
    "$$ \\nabla RSS(\\theta) = 2 \\Phi^T (\\Phi \\theta - \\bar{y}) = 0$$\n",
    "\n",
    "$$ \\theta_{OLS} = (\\Phi^T \\Phi)^{-1} \\Phi^T \\hat{y}$$\n",
    "\n",
    "Least squares, again!"
   ]
  },
  {
   "cell_type": "markdown",
   "metadata": {},
   "source": [
    "2nd order condition:\n",
    "\n",
    "RSS(\\theta) is convex\n",
    "\n",
    "if $\\nabla^2 RSS(\\theta)$ is pos definite.\n",
    "\n",
    "$(\\nabla^2)_{ij} = \\frac{\\partial^2}{\\partial \\theta_i \\partial \\theta_j}$\n",
    "\n",
    "$ \\nabla^2 RSS(\\theta) = 2 \\Phi^T \\Phi $\n",
    "\n",
    "$ \\Phi^T \\Phi > 0  \\rightarrow (both ways) a^T(\\Phi^T \\Phi)a > 0 $ for all $||a||_2 = 1$\n",
    "\n",
    "$|| \\Phi a ||_2^2$ if $\\Phi$ is full rank and $n > d$.\n",
    "\n",
    "Note that the 2nd order condition is just a proof that the least squares is actually the optimal estimate, and it's nice: we can write it in closed form."
   ]
  },
  {
   "cell_type": "markdown",
   "metadata": {
    "collapsed": true
   },
   "source": [
    "**Geometric Interpretation**\n",
    "\n",
    "$n > d$.  Assume that $\\Phi$ is full rank.\n",
    "\n",
    "\n",
    "$$\\Phi = \\begin{bmatrix} | & | & & | \\\\ x_0 & x_1 & ... & x_d \\\\ | & | & & | \\end{bmatrix}$$\n",
    "\n",
    "$ RSS(\\theta) = \\sum (\\hat{y}_i = \\bar{y}_i)^2 = || \\hat{y}_i = \\bar{y}_i||_2^2 $\n",
    "\n",
    "We are trying to choose a point spanned by $\\tilde{x}_i$s that minimizes the Euclidean distance.\n",
    "\n",
    "We see that the first order optimality conditions are just telling us that\n",
    "\n",
    "$$ \\Phi^T(\\Phi \\theta - \\hat{y}) = \\Phi^T(\\hat{y} - y) = 0$$\n",
    "\n",
    "We see that $\\hat{y}$ is the projection of $\\bar{y}$ onto the subspace.\n",
    "\n",
    "$$ \\hat{y} = \\Phi \\theta = \\Phi (\\Phi^ \\Phi)^{-1} \\Phi^T \\bar{y} $$\n",
    "\n",
    "The orthongonal projection onto the span of {$\\tilde{x}_0,\\tilde{x}_1,...,\\tilde{x}_d$}"
   ]
  },
  {
   "cell_type": "markdown",
   "metadata": {},
   "source": [
    "Suppose that $\\Phi$ is invertible $(d = n)$:\n",
    "\n",
    "$$ \\theta_{OLS} = (\\Phi^T Phi)^{-1} \\Phi^T \\hat{y}$$\n",
    "\n",
    "$$ \\Phi^{-1} \\bar{y} $$\n",
    "\n",
    "$$ \\hat{y} = \\Phi \\theta = \\bar{y} $$\n",
    "\n"
   ]
  },
  {
   "cell_type": "markdown",
   "metadata": {},
   "source": [
    "Suppose that $d +1 > n$:\n",
    "\n",
    "$$  \\Phi = \\begin{bmatrix} ... \\end{bmatrix}  \\Rightarrow \\Phi^T\\Phi \\in \\mathbb{R}^{(d+1)\\times(d+1)}$$\n",
    "\n",
    "$Rank(\\Phi) \\le n$\n",
    "\n",
    "$$ (\\Phi^T \\Phi)^{-1} \\Phi^T = \\Phi^{\\dagger}$$  Moore-Penrose psuedo inverse\n"
   ]
  },
  {
   "cell_type": "markdown",
   "metadata": {},
   "source": [
    "$Y = \\theta^Tx + \\epsilon$  \n",
    "\n",
    "$\\epsilon \\approx N(0,\\beta^{-1})$\n",
    "\n",
    "Recall:\n",
    "\n",
    "$ Z \\~ N(\\mu,\\sigma^2) $\n",
    "\n",
    "$p_Z(z) = \\frac{1}{\\sqrt{2\\pi\\sigma^2}} \\exp \\big[ -(z-\\mu)^2 / 2\\sigma^2 \\big]$\n",
    "\n"
   ]
  },
  {
   "cell_type": "markdown",
   "metadata": {},
   "source": [
    "$y^{(i)} = \\theta^T x^{(i)}$\n",
    "\n",
    "Maximum Likelihood:\n",
    "\n",
    "$ p(y^{lin} \\ | \\ x^{lin}, \\theta, \\beta $\n",
    "\n",
    "$ = \\prod p(y^{(i)} \\ | \\ x^{(i)}, \\theta, \\beta)$\n",
    "\n",
    "$ = \\prod_{i=1}^n \\frac{1}{\\sqrt{2\\pi\\sigma^2}} \\exp \\big[ -(y^{i}- \\theta^Tx)^2 / 2\\beta^{-1} \\big] $\n",
    "\n",
    "Take the $\\log$ so it's easier!\n",
    "\n"
   ]
  },
  {
   "cell_type": "markdown",
   "metadata": {},
   "source": [
    "$$ \\beta_{ML}^{-1} = \\frac{1}{n} \\sum_{i=1}^n (\\theta^Tx^{(i)} -y^{(i)})^2 = MSE(\\theta) $$"
   ]
  },
  {
   "cell_type": "markdown",
   "metadata": {},
   "source": [
    "Basis functions\n",
    "\n",
    "$y = \\theta_0 + \\theta_1x_1 + ... + \\theta_dx_d $\n",
    "\n",
    "Since linear in parameters, can still use linear least squares\n",
    "\n",
    "$y = \\theta_0 + \\theta_1\\phi_1(x) + \\theta_2\\phi_2(x) ... + \\theta_d\\phi_d(x) $\n",
    "\n",
    "\"basis function expansion\"\n",
    "\n",
    "$\\phi(x) = (x_i)^j$\n",
    "\n",
    "$\\phi(x) = x_i*x_j$\n",
    "\n",
    "$\\phi(x) = \\sin(x)$ sinusoid\n",
    "\n",
    "$\\phi(x) = \\frac{1}{1 + e^{-x_i}}$ \"logistic\"\n",
    "\n",
    "Wavelets, splines... lots of options for basis functions\n"
   ]
  },
  {
   "cell_type": "code",
   "execution_count": null,
   "metadata": {
    "collapsed": true
   },
   "outputs": [],
   "source": []
  }
 ],
 "metadata": {
  "kernelspec": {
   "display_name": "Python 2",
   "language": "python",
   "name": "python2"
  },
  "language_info": {
   "codemirror_mode": {
    "name": "ipython",
    "version": 2
   },
   "file_extension": ".py",
   "mimetype": "text/x-python",
   "name": "python",
   "nbconvert_exporter": "python",
   "pygments_lexer": "ipython2",
   "version": "2.7.10"
  }
 },
 "nbformat": 4,
 "nbformat_minor": 0
}
